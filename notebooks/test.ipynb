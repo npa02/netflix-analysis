{
 "cells": [
  {
   "cell_type": "markdown",
   "id": "5dcbd975-4f99-4550-8e2b-d9099fda88ae",
   "metadata": {},
   "source": [
    "5 basic steps for Data analysis:\n",
    "             \n",
    "1. Define the problem\n",
    "2. Collect data\n",
    "3. Prepare data\n",
    "4. Analyse data\n",
    "5. Interpret results"
   ]
  },
  {
   "cell_type": "code",
   "execution_count": null,
   "id": "3b4707f9-7168-409f-a6f1-e8760ea04ca3",
   "metadata": {},
   "outputs": [],
   "source": [
    "import pandas as pd\n",
    "import seaborn as sns\n",
    "import matplotlib.pyplot as plt\n",
    "\n",
    "import builtins\n",
    "import rich\n",
    "builtins.print = rich.print"
   ]
  },
  {
   "cell_type": "code",
   "execution_count": null,
   "id": "5a03b219-acd2-4969-8385-5a4bea0fdb7e",
   "metadata": {},
   "outputs": [],
   "source": [
    "df = pd.read_csv(\"../data/netflix_titles.csv\")"
   ]
  },
  {
   "cell_type": "markdown",
   "id": "6576063b-3a6a-416d-8527-5ef03d2998b6",
   "metadata": {},
   "source": [
    "## Task 1: Transform the initial table\n",
    "\n",
    "- Initially, each row is for one movie, available in potentiall MANY countries.\n",
    "- For easier analsys concerning country, we want each row for a movie in a single country\n",
    "- In other words, one row of the initial table corresponds to multiple rows in the new table"
   ]
  },
  {
   "cell_type": "markdown",
   "id": "cf2470af-ee84-4371-b473-72aad53300e2",
   "metadata": {
    "jp-MarkdownHeadingCollapsed": true
   },
   "source": [
    "## Task 2: List all TV-Shows\n",
    "\n",
    "Given the dataset, I will filter out by column type"
   ]
  },
  {
   "cell_type": "code",
   "execution_count": null,
   "id": "497dd869-01bb-45bf-bb86-20d0f7003be2",
   "metadata": {},
   "outputs": [],
   "source": [
    "df_tv_show = df.query('type == \"TV Show\"')\n",
    "df_tv_show.head()"
   ]
  },
  {
   "attachments": {},
   "cell_type": "markdown",
   "id": "7fe63eb3-e3cb-4681-823a-32e1d5084b38",
   "metadata": {},
   "source": [
    "## Task 3: How many movies and TV-shows are available in each country?\n",
    "\n",
    "Target result: a bar plot:\n",
    "- x-axis: country name\n",
    "- y-axis: no. movies and TV-shows"
   ]
  },
  {
   "cell_type": "markdown",
   "id": "ef671af7-0e37-40b8-8cc7-d80fa60c77e4",
   "metadata": {},
   "source": [
    "I want a table with 2 columns\n",
    "1. country\n",
    "2. Count of movies and TV-shows available in that country\n",
    "\n",
    "Approach: create a dictionary with\n",
    "key: country name\n",
    "value: count of movies and tv-shows"
   ]
  },
  {
   "cell_type": "code",
   "execution_count": null,
   "id": "7d042a01-87c4-4f8e-85d6-a3c5e784f012",
   "metadata": {},
   "outputs": [],
   "source": [
    "# Remove nan values\n",
    "df = df.dropna()\n",
    "\n",
    "# A dictionary\n",
    "# key: country name\n",
    "# value: count of movies and tv-shows\n",
    "dict_country_cnt = {}\n",
    "\n",
    "# Iterate through the array df.country.unique()\n",
    "for id_country, country_names in enumerate(df.country.unique()):\n",
    "    # If country_names == nan, skip\n",
    "    if isinstance(country_names, float):\n",
    "        continue\n",
    "\n",
    "    # If it is available in many countries, split the string\n",
    "    for country_name in country_names.split(', '):\n",
    "        # If the country_name is already in dict_country_cnt.keys(), skip\n",
    "        if country_name in list(dict_country_cnt.keys()):\n",
    "            continue\n",
    "        # else, save it in the list\n",
    "        else:\n",
    "            dict_country_cnt[country_name] = 0\n",
    "\n",
    "# For each country, count movies that are available in that country\n",
    "for country_name in dict_country_cnt.keys():\n",
    "    filtered_df = df[df['country'].str.contains(country_name)]\n",
    "    dict_country_cnt[country_name] = len(filtered_df.index)"
   ]
  },
  {
   "cell_type": "code",
   "execution_count": null,
   "id": "730a4912-8503-4378-93cc-c757237253d0",
   "metadata": {},
   "outputs": [],
   "source": [
    "del dict_country_cnt['']\n",
    "\n",
    "dict_country_cnt = sorted(dict_country_cnt.items(), key=lambda x:x[1], reverse=True)\n",
    "dict_country_cnt = dict(dict_country_cnt)\n",
    "\n",
    "# Prepare the data\n",
    "df_new = pd.DataFrame(dict_country_cnt.items(), columns=['country', 'cnt'])\n",
    "\n",
    "sns.set_theme(rc={'figure.figsize':(7,22)})\n",
    "sns.barplot(df_new, y=\"country\", x='cnt')\n",
    "\n",
    "plt.savefig('../results/barplot_country_no_movies.png')\n",
    "\n",
    "plt.show()\n",
    "plt.close()"
   ]
  },
  {
   "cell_type": "markdown",
   "id": "4306d422-56a3-46b3-8687-99d53e90665e",
   "metadata": {},
   "source": [
    "## Task 4: In the top 5 countries with the highest number of available movies and TV-shows, see the percentage (or number) of movies versus TV-shows"
   ]
  },
  {
   "cell_type": "markdown",
   "id": "63c772e0-194b-4aed-8f1d-dd07aaef7ffa",
   "metadata": {},
   "source": [
    "## Task 5: In USA, is there any trend on no. movies & TV-shows release over the years"
   ]
  },
  {
   "cell_type": "markdown",
   "id": "4cc098d9-781c-47e0-8cf4-10302c0ee9db",
   "metadata": {},
   "source": [
    "## Task 6: In USA, is there any trend on the duration of movies & TV-shows, considering the released years?"
   ]
  }
 ],
 "metadata": {
  "kernelspec": {
   "display_name": "venv-netflix",
   "language": "python",
   "name": "venv-netflix"
  },
  "language_info": {
   "codemirror_mode": {
    "name": "ipython",
    "version": 3
   },
   "file_extension": ".py",
   "mimetype": "text/x-python",
   "name": "python",
   "nbconvert_exporter": "python",
   "pygments_lexer": "ipython3",
   "version": "3.12.6"
  }
 },
 "nbformat": 4,
 "nbformat_minor": 5
}
